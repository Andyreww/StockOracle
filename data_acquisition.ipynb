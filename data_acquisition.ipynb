{
 "cells": [
  {
   "cell_type": "markdown",
   "metadata": {},
   "source": [
    "# Data Aquisition\n",
    "Gathering Data and transforming it into .csv files\n",
    "\n",
    "By: Andrew Angulo\n",
    "\n",
    "___"
   ]
  },
  {
   "cell_type": "markdown",
   "metadata": {},
   "source": [
    "## Seting up our Environment\n"
   ]
  },
  {
   "cell_type": "code",
   "execution_count": 12,
   "metadata": {},
   "outputs": [],
   "source": [
    "import yfinance as yf\n",
    "import pandas as pd\n",
    "from tabulate import tabulate"
   ]
  },
  {
   "cell_type": "markdown",
   "metadata": {},
   "source": [
    "## Gathering Live Data into a dataframe"
   ]
  },
  {
   "cell_type": "code",
   "execution_count": 18,
   "metadata": {},
   "outputs": [
    {
     "name": "stdout",
     "output_type": "stream",
     "text": [
      "+---------------------------+--------+--------+--------+---------+-------------+-------------+----------------+\n",
      "| Date                      |   Open |   High |    Low |   Close |      Volume |   Dividends |   Stock Splits |\n",
      "|---------------------------+--------+--------+--------+---------+-------------+-------------+----------------|\n",
      "| 2024-08-15 00:00:00-04:00 | 224.55 | 225.34 | 222.76 |  224.41 | 1.97126e+07 |           0 |              0 |\n",
      "+---------------------------+--------+--------+--------+---------+-------------+-------------+----------------+\n"
     ]
    }
   ],
   "source": [
    "def stockLiveData(stock_name):\n",
    "    # If user inputs an incorrect stock name\n",
    "    # any(map(str.isdigit, stock_name) == True)\n",
    "    if not stock_name:\n",
    "        raise ValueError(\"Not a Valid Stock Name\")\n",
    "\n",
    "    # Gathering live data\n",
    "    crrnt_Stock = yf.Ticker(stock_name)\n",
    "    crrnt_price = crrnt_Stock.history(period='1d')\n",
    "    \n",
    "    # If the stock has no information\n",
    "    if crrnt_price.empty:\n",
    "        raise ValueError(\"Stock has no data\")\n",
    "    \n",
    "    return crrnt_price\n",
    "\n",
    "\n",
    "# De-Bug Print Statement\n",
    "stock = stockLiveData('AAPL')\n",
    "print(tabulate(stock, headers='keys', tablefmt='psql'))"
   ]
  },
  {
   "cell_type": "markdown",
   "metadata": {},
   "source": [
    "## Putting Data Into CSV File"
   ]
  },
  {
   "cell_type": "code",
   "execution_count": null,
   "metadata": {},
   "outputs": [],
   "source": [
    "def converToCSV(data, filename):\n",
    "    data.to_csv(filename)"
   ]
  }
 ],
 "metadata": {
  "kernelspec": {
   "display_name": "Python 3",
   "language": "python",
   "name": "python3"
  },
  "language_info": {
   "codemirror_mode": {
    "name": "ipython",
    "version": 3
   },
   "file_extension": ".py",
   "mimetype": "text/x-python",
   "name": "python",
   "nbconvert_exporter": "python",
   "pygments_lexer": "ipython3",
   "version": "3.11.9"
  }
 },
 "nbformat": 4,
 "nbformat_minor": 2
}
