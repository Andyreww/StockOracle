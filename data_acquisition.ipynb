{
 "cells": [
  {
   "cell_type": "markdown",
   "metadata": {},
   "source": [
    "# Data Aquisition\n",
    "Gathering Data and transforming it into .csv files\n",
    "\n",
    "By: Andrew Angulo\n",
    "\n",
    "___"
   ]
  },
  {
   "cell_type": "markdown",
   "metadata": {},
   "source": [
    "## Seting up our Environment\n",
    "\n",
    "- yfinance: allows us to get historical data from all of the Stocks to further let the bot make better decisions\n",
    "- pandas: allows us to transform out data and approach it at a better angle\n",
    "- tabulate: allows us to see pandas table in a cleaner format\n"
   ]
  },
  {
   "cell_type": "code",
   "execution_count": 19,
   "metadata": {},
   "outputs": [],
   "source": [
    "import yfinance as yf\n",
    "import pandas as pd\n",
    "from tabulate import tabulate"
   ]
  },
  {
   "cell_type": "markdown",
   "metadata": {},
   "source": [
    "## Gathering Historical Data into a dataframe"
   ]
  },
  {
   "cell_type": "code",
   "execution_count": 20,
   "metadata": {},
   "outputs": [],
   "source": [
    "def historicalStockData(stock_name, timeframe='5y'):\n",
    "    # If user inputs an incorrect stock name\n",
    "    # any(map(str.isdigit, stock_name) == True)\n",
    "    if not stock_name:\n",
    "        raise ValueError(\"Not a Valid Stock Name\")\n",
    "\n",
    "    # Gathering live data\n",
    "    crrnt_Stock = yf.Ticker(stock_name)\n",
    "    crrnt_price = crrnt_Stock.history(period=timeframe)\n",
    "    \n",
    "    # If the stock has no information\n",
    "    if crrnt_price.empty:\n",
    "        raise ValueError(\"Stock has no data\")\n",
    "    \n",
    "    return crrnt_price\n",
    "\n",
    "\n",
    "# De-Bug Print Statement\n",
    "# stock = historicalStockData('AAPL')\n",
    "# print(tabulate(stock, headers='keys', tablefmt='psql'))"
   ]
  },
  {
   "cell_type": "markdown",
   "metadata": {},
   "source": [
    "## Putting Data Into CSV File\n",
    "\n",
    "Grabs historical data and puts it into a CSV file to better train the bot on data"
   ]
  },
  {
   "cell_type": "code",
   "execution_count": 21,
   "metadata": {},
   "outputs": [],
   "source": [
    "def convertToCSV(data, filename):\n",
    "    filename = f\"{filename}_{pd.Timestamp.now().date()}.csv\"\n",
    "    data.to_csv(filename)\n",
    "\n",
    "# De-Bug\n",
    "#data = historicalStockData('AAPL')\n",
    "#convertToCSV(data, 'AAPLE_STOCK')"
   ]
  },
  {
   "cell_type": "code",
   "execution_count": null,
   "metadata": {},
   "outputs": [],
   "source": []
  }
 ],
 "metadata": {
  "kernelspec": {
   "display_name": "Python 3",
   "language": "python",
   "name": "python3"
  },
  "language_info": {
   "codemirror_mode": {
    "name": "ipython",
    "version": 3
   },
   "file_extension": ".py",
   "mimetype": "text/x-python",
   "name": "python",
   "nbconvert_exporter": "python",
   "pygments_lexer": "ipython3",
   "version": "3.11.9"
  }
 },
 "nbformat": 4,
 "nbformat_minor": 2
}
