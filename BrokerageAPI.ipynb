{
 "cells": [
  {
   "cell_type": "markdown",
   "metadata": {},
   "source": [
    "# Setting Up Our Environment\n",
    "\n",
    "___"
   ]
  },
  {
   "cell_type": "code",
   "execution_count": 2,
   "metadata": {},
   "outputs": [],
   "source": [
    "import alpaca_trade_api as tradeapi\n",
    "import pandas as pd\n",
    "from tabulate import tabulate\n",
    "import time\n",
    "from datetime import datetime, timedelta\n",
    "\n",
    "\n",
    "import os\n",
    "from dotenv import load_dotenv, find_dotenv\n",
    "from pathlib import Path"
   ]
  },
  {
   "cell_type": "markdown",
   "metadata": {},
   "source": [
    "# Obtaining Credentials\n",
    "\n",
    "In order to use the Stock Trader each user must have a API & SECRET key in order to abide by Alpaca's documentation"
   ]
  },
  {
   "cell_type": "code",
   "execution_count": 3,
   "metadata": {},
   "outputs": [
    {
     "name": "stdout",
     "output_type": "stream",
     "text": [
      "API key loaded successfully.\n"
     ]
    }
   ],
   "source": [
    "def get_credentials():\n",
    "    load_dotenv(\"creds.env\")\n",
    "    api_key = os.getenv(\"ALPACA_API_KEY\")\n",
    "    secret_key = os.getenv(\"SECRET_KEY\")\n",
    "    if not api_key and not secret_key:\n",
    "        print(\"API key not found. Please check your creds.env file.\")\n",
    "    else:\n",
    "        api = tradeapi.REST(api_key, secret_key, base_url='https://paper-api.alpaca.markets')\n",
    "        print(\"API key loaded successfully.\")\n",
    "    return api\n",
    "\n",
    "api = get_credentials()"
   ]
  },
  {
   "cell_type": "markdown",
   "metadata": {},
   "source": [
    "## Placing Orders\n",
    "\n",
    "### Places an order based on the Stock\n",
    "- symbol (str) : The name of the Stock\n",
    "- qty : Amount of shares to buy or sell\n",
    "- order_type : Order Type\n",
    "    - Market by default\n",
    "- side : Buy or Sell\n",
    "    - default is Buy"
   ]
  },
  {
   "cell_type": "code",
   "execution_count": 4,
   "metadata": {},
   "outputs": [],
   "source": [
    "def place_order(symbol, qty, order_type=\"market\", side=\"buy\"):\n",
    "\n",
    "    try:\n",
    "        api.submit_order(\n",
    "            symbol=symbol,\n",
    "            qty=qty,\n",
    "            side=side,\n",
    "            type=order_type,\n",
    "            time_in_force='gtc'\n",
    "        )\n",
    "        print(f\"Order placed: {side} {qty} shares of {symbol}\")\n",
    "    except Exception as e:\n",
    "        print(f\"Error placing order: {e}\")\n",
    "\n",
    "\n"
   ]
  },
  {
   "cell_type": "markdown",
   "metadata": {},
   "source": [
    "# Simple Moving Average\n",
    "\n",
    "### Returns the simple moving average for the given stock\n",
    "- data : stock data\n",
    "- window : the size for the moving average (possibly adjust)\n",
    "\n",
    "### Return:\n",
    "    - Pandas Data Frame of Moving Averages"
   ]
  },
  {
   "cell_type": "code",
   "execution_count": 5,
   "metadata": {},
   "outputs": [],
   "source": [
    "def calculate_SMA(data, window):\n",
    "    return data['Close'].rolling(window=window).mean()"
   ]
  },
  {
   "cell_type": "markdown",
   "metadata": {},
   "source": [
    "# Calculating Strength\n",
    "- data : Stock Data\n",
    "- window : the size for the moving strength index\n",
    "\n",
    "### Returns:\n",
    "    - Pandas Data Frame of the RSI Values\n",
    "\n"
   ]
  },
  {
   "cell_type": "code",
   "execution_count": 6,
   "metadata": {},
   "outputs": [],
   "source": [
    "def calculate_RSI(data, window=14):\n",
    "    delta = data['Close'].diff(1)\n",
    "    gain = (delta.where(delta > 0, 0)).rolling(window=window).mean()\n",
    "    loss = (-delta.where(delta < 0, 0)).rolling(window=window).mean()\n",
    "    RS = gain / loss\n",
    "    RSI = 100 - (100 / (1 + RS))\n",
    "    return RSI"
   ]
  },
  {
   "cell_type": "markdown",
   "metadata": {},
   "source": [
    "# Fetching Data\n"
   ]
  },
  {
   "cell_type": "code",
   "execution_count": 24,
   "metadata": {},
   "outputs": [
    {
     "name": "stdout",
     "output_type": "stream",
     "text": [
      "Fetching historical data for TSLA from 2024-08-08T18:01:25.757587Z to 2024-08-18T18:01:25.757587Z...\n",
      "Data retrieved successfully for TSLA.\n",
      "                              close      high       low  trade_count  \\\n",
      "timestamp                                                              \n",
      "2024-08-08 18:05:00+00:00  199.8379  200.0700  199.5704         8515   \n",
      "2024-08-08 18:10:00+00:00  200.2040  200.2500  199.6600         5413   \n",
      "2024-08-08 18:15:00+00:00  200.6134  200.6800  200.0870         8693   \n",
      "2024-08-08 18:20:00+00:00  200.4400  200.7000  200.3900         5821   \n",
      "2024-08-08 18:25:00+00:00  200.0373  200.5167  199.9000         6323   \n",
      "...                             ...       ...       ...          ...   \n",
      "2024-08-16 23:35:00+00:00  216.2400  216.2900  216.2011           92   \n",
      "2024-08-16 23:40:00+00:00  216.2700  216.2700  216.2008          128   \n",
      "2024-08-16 23:45:00+00:00  216.3000  216.3000  216.2100          116   \n",
      "2024-08-16 23:50:00+00:00  216.3200  216.3200  216.2407          129   \n",
      "2024-08-16 23:55:00+00:00  216.3244  216.3800  216.2834          185   \n",
      "\n",
      "                               open  volume        vwap  \n",
      "timestamp                                                \n",
      "2024-08-08 18:05:00+00:00  199.7468  715430  199.879748  \n",
      "2024-08-08 18:10:00+00:00  199.8400  514449  199.890900  \n",
      "2024-08-08 18:15:00+00:00  200.1901  790896  200.490113  \n",
      "2024-08-08 18:20:00+00:00  200.6100  495459  200.561164  \n",
      "2024-08-08 18:25:00+00:00  200.4495  505952  200.164461  \n",
      "...                             ...     ...         ...  \n",
      "2024-08-16 23:35:00+00:00  216.2800    4862  216.261085  \n",
      "2024-08-16 23:40:00+00:00  216.2400    5731  216.222955  \n",
      "2024-08-16 23:45:00+00:00  216.2700   10819  216.256757  \n",
      "2024-08-16 23:50:00+00:00  216.2407   10449  216.286617  \n",
      "2024-08-16 23:55:00+00:00  216.3000   13468  216.329261  \n",
      "\n",
      "[1223 rows x 7 columns]\n"
     ]
    }
   ],
   "source": [
    "def fetch_data(stock_symbol, period='5y', interval='1m', live=False):\n",
    "    try:\n",
    "        if live:\n",
    "            # Fetch live data (Bugs here)\n",
    "            bars = api.get_bars(stock_symbol, timeframe=interval, limit=1).df\n",
    "            if bars.empty:\n",
    "                print(f\"No live data available for {stock_symbol}.\")\n",
    "                return None\n",
    "            return bars\n",
    "        else:\n",
    "            # Calculate the correct dates\n",
    "            if period.endswith('d'):\n",
    "                num_days = int(period[:-1])  # Extract the number of days\n",
    "                end_date = datetime.now()\n",
    "                start_date = end_date - timedelta(days=num_days)\n",
    "            else:\n",
    "                print(\"Unsupported format. Please specify days ex: '10d'\")\n",
    "                return None\n",
    "\n",
    "            # Convert dates to proper format\n",
    "            start_iso = start_date.isoformat() + 'UTC'  # \n",
    "            end_iso = end_date.isoformat() + 'UTC'\n",
    "\n",
    "            print(f\"Fetching historical data for {stock_symbol} from {start_iso} to {end_iso}...\")\n",
    "            bars = api.get_bars(stock_symbol, timeframe=interval, start=start_iso, end=end_iso).df\n",
    "            if bars.empty:\n",
    "                print(f\"No historical data available for {stock_symbol} in the given period.\")\n",
    "                return None\n",
    "            print(f\"Data retrieved successfully for {stock_symbol}.\")\n",
    "            return bars\n",
    "    except Exception as e:\n",
    "        print(f\"An error occurred while fetching data for {stock_symbol}: {e}\")\n",
    "        return None\n",
    "\n",
    "# Example usage\n",
    "bars = fetch_data('TSLA', period='10d', interval='5Min', live=False)\n",
    "print(bars)\n"
   ]
  },
  {
   "cell_type": "markdown",
   "metadata": {},
   "source": [
    "# Trading Strategy"
   ]
  },
  {
   "cell_type": "code",
   "execution_count": 8,
   "metadata": {},
   "outputs": [],
   "source": [
    "def trading_strategy(stock_symbol, qty):\n",
    "    # Fetch the latest data\n",
    "    data = fetch_data(stock_symbol, period='10d', interval='5Min', live=True)\n",
    "    \n",
    "    if data is not None and not data.empty:\n",
    "        # Calculate SMA and RSI\n",
    "        sma = calculate_SMA(data)\n",
    "        rsi = calculate_RSI(data)\n",
    "        \n",
    "        # Get the latest close price\n",
    "        latest_close = data['close'].iloc[-1]\n",
    "        latest_sma = sma.iloc[-1]\n",
    "        latest_rsi = rsi.iloc[-1]\n",
    "\n",
    "        # Setting the trading conditions (Fix Bugs here)\n",
    "        if latest_rsi < 30 and latest_close < latest_sma:\n",
    "            # Buy signal (Update my logic here)\n",
    "            place_order(stock_symbol, qty, side='buy')\n",
    "        elif latest_rsi > 70 and latest_close > latest_sma:\n",
    "            # Sell signal\n",
    "            place_order(stock_symbol, qty, side='sell')\n",
    "    else:\n",
    "        print(f\"Failed to retrieve data for {stock_symbol}\")"
   ]
  },
  {
   "cell_type": "markdown",
   "metadata": {},
   "source": [
    "# Running the Trading Bot"
   ]
  },
  {
   "cell_type": "code",
   "execution_count": null,
   "metadata": {},
   "outputs": [],
   "source": [
    "def run_bot(stock_symbol, qty, interval=60):\n",
    "    while True:\n",
    "        trading_strategy(stock_symbol, qty)\n",
    "        time.sleep(interval)  # Wait for the next iteration\n",
    "\n",
    "# To De-Bug\n",
    "run_bot('AAPL', 10, interval=300)  "
   ]
  }
 ],
 "metadata": {
  "kernelspec": {
   "display_name": "Python 3",
   "language": "python",
   "name": "python3"
  },
  "language_info": {
   "codemirror_mode": {
    "name": "ipython",
    "version": 3
   },
   "file_extension": ".py",
   "mimetype": "text/x-python",
   "name": "python",
   "nbconvert_exporter": "python",
   "pygments_lexer": "ipython3",
   "version": "3.11.9"
  }
 },
 "nbformat": 4,
 "nbformat_minor": 2
}
