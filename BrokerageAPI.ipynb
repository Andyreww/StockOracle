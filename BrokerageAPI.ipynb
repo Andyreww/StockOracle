{
 "cells": [
  {
   "cell_type": "markdown",
   "metadata": {},
   "source": []
  },
  {
   "cell_type": "code",
   "execution_count": 8,
   "metadata": {},
   "outputs": [],
   "source": [
    "import alpaca_trade_api as tradeapi\n",
    "import pandas as pd\n",
    "from tabulate import tabulate\n",
    "\n",
    "\n",
    "import os\n",
    "from dotenv import load_dotenv, find_dotenv\n",
    "from pathlib import Path"
   ]
  },
  {
   "cell_type": "markdown",
   "metadata": {},
   "source": []
  },
  {
   "cell_type": "code",
   "execution_count": 9,
   "metadata": {},
   "outputs": [],
   "source": [
    "def get_credentials():\n",
    "    load_dotenv(\"creds.env\")\n",
    "    api_key = os.getenv(\"ALPACA_API_KEY\")\n",
    "    secret_key = os.getenv(\"SECRET_KEY\")\n",
    "    if not api_key and not secret_key:\n",
    "        print(\"API key not found. Please check your creds.env file.\")\n",
    "    else:\n",
    "        api = tradeapi.REST(api_key, secret_key, base_url='https://paper-api.alpaca.markets')\n",
    "        print(\"API key loaded successfully.\")\n",
    "    return api"
   ]
  },
  {
   "cell_type": "markdown",
   "metadata": {},
   "source": [
    "## Placing Orders"
   ]
  },
  {
   "cell_type": "code",
   "execution_count": 10,
   "metadata": {},
   "outputs": [
    {
     "name": "stdout",
     "output_type": "stream",
     "text": [
      "API key loaded successfully.\n"
     ]
    }
   ],
   "source": [
    "api = get_credentials()\n",
    "\n",
    "def place_order(symbol, qty, order_type=\"market\", side=\"buy\"):\n",
    "    \"\"\"\n",
    "    Places an order for the specified stock symbol.\n",
    "\n",
    "    Args:\n",
    "        symbol (str): Stock symbol (e.g., 'AAPL', 'TSLA').\n",
    "        qty (int): Number of shares to buy/sell.\n",
    "        order_type (str, optional): Order type ('market' by default).\n",
    "        side (str, optional): 'buy' or 'sell' (default is 'buy').\n",
    "\n",
    "    Returns:\n",
    "        None\n",
    "    \"\"\"\n",
    "    try:\n",
    "        api.submit_order(\n",
    "            symbol=symbol,\n",
    "            qty=qty,\n",
    "            side=side,\n",
    "            type=order_type,\n",
    "            time_in_force='gtc'\n",
    "        )\n",
    "        print(f\"Order placed: {side} {qty} shares of {symbol}\")\n",
    "    except Exception as e:\n",
    "        print(f\"Error placing order: {e}\")\n",
    "\n",
    "\n"
   ]
  },
  {
   "cell_type": "code",
   "execution_count": null,
   "metadata": {},
   "outputs": [],
   "source": []
  }
 ],
 "metadata": {
  "kernelspec": {
   "display_name": "Python 3",
   "language": "python",
   "name": "python3"
  },
  "language_info": {
   "codemirror_mode": {
    "name": "ipython",
    "version": 3
   },
   "file_extension": ".py",
   "mimetype": "text/x-python",
   "name": "python",
   "nbconvert_exporter": "python",
   "pygments_lexer": "ipython3",
   "version": "3.11.9"
  }
 },
 "nbformat": 4,
 "nbformat_minor": 2
}
